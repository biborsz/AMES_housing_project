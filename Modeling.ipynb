{
 "cells": [
  {
   "cell_type": "markdown",
   "metadata": {},
   "source": [
    "## Linear Regression - Intuitively Selected Features - Baseline"
   ]
  },
  {
   "cell_type": "code",
   "execution_count": 11,
   "metadata": {},
   "outputs": [],
   "source": [
    "import pandas as pd\n",
    "import numpy as np\n",
    "import matplotlib.pyplot as plt\n",
    "import seaborn as sns\n",
    "from sklearn.linear_model import LinearRegression\n",
    "from sklearn.metrics import r2_score\n",
    "from sklearn.model_selection import train_test_split, cross_val_score"
   ]
  },
  {
   "cell_type": "code",
   "execution_count": 12,
   "metadata": {},
   "outputs": [],
   "source": [
    "# read in cleaned dataset\n",
    "\n",
    "housing = pd.read_csv('./datasets/modified_train.csv')"
   ]
  },
  {
   "cell_type": "code",
   "execution_count": 14,
   "metadata": {},
   "outputs": [],
   "source": [
    "# create X and y\n",
    "# features - 12 top features based on the correlation heatmap\n",
    "\n",
    "features = ['Overall Qual', 'Total SF', 'Garage Area', 'Garage Cars_3.0', '1st Flr SF', 'Year Built', \n",
    "                 'Year Remod/Add', 'Foundation_PConc', 'Mas Vnr Area', 'Full Bath_1', 'Kitchen Qual_TA', 'Exter Qual_TA']\n",
    "\n",
    "X = housing[features]\n",
    "\n",
    "y = housing['SalePrice']"
   ]
  },
  {
   "cell_type": "code",
   "execution_count": 15,
   "metadata": {},
   "outputs": [],
   "source": [
    "# instantiate linear regression model\n",
    "\n",
    "lr_model = LinearRegression()"
   ]
  },
  {
   "cell_type": "code",
   "execution_count": 16,
   "metadata": {},
   "outputs": [
    {
     "data": {
      "text/plain": [
       "LinearRegression(copy_X=True, fit_intercept=True, n_jobs=None, normalize=False)"
      ]
     },
     "execution_count": 16,
     "metadata": {},
     "output_type": "execute_result"
    }
   ],
   "source": [
    "# fit X and y to model\n",
    "\n",
    "lr_model.fit(X, y)"
   ]
  },
  {
   "cell_type": "code",
   "execution_count": 17,
   "metadata": {},
   "outputs": [
    {
     "data": {
      "text/plain": [
       "array([ 1.82644235e+04,  3.00090345e+01,  1.87819077e+01,  4.12048444e+04,\n",
       "        1.83730666e+01,  8.63302922e+01,  2.80923408e+02,  5.83944143e+03,\n",
       "        2.54314061e+01, -1.90707263e+02, -5.84363817e+03, -6.79291857e+03])"
      ]
     },
     "execution_count": 17,
     "metadata": {},
     "output_type": "execute_result"
    }
   ],
   "source": [
    "# beta hat coefficients (slope)\n",
    "\n",
    "lr_model.coef_"
   ]
  },
  {
   "cell_type": "code",
   "execution_count": 18,
   "metadata": {},
   "outputs": [
    {
     "data": {
      "text/plain": [
       "-751006.0312410725"
      ]
     },
     "execution_count": 18,
     "metadata": {},
     "output_type": "execute_result"
    }
   ],
   "source": [
    "# y intercept\n",
    "\n",
    "lr_model.intercept_"
   ]
  },
  {
   "cell_type": "code",
   "execution_count": 19,
   "metadata": {},
   "outputs": [],
   "source": [
    "# generate predictions\n",
    "\n",
    "y_preds = lr_model.predict(X)"
   ]
  },
  {
   "cell_type": "code",
   "execution_count": 20,
   "metadata": {},
   "outputs": [
    {
     "data": {
      "text/plain": [
       "0.8209722941812156"
      ]
     },
     "execution_count": 20,
     "metadata": {},
     "output_type": "execute_result"
    }
   ],
   "source": [
    "# r2 score\n",
    "\n",
    "r2_score(y, y_preds)\n",
    "\n",
    "# The model, as it is, explains 82% of the variance in Sales Price"
   ]
  },
  {
   "cell_type": "code",
   "execution_count": 21,
   "metadata": {},
   "outputs": [],
   "source": [
    "# compute residual error\n",
    "\n",
    "residuals = y - y_preds"
   ]
  },
  {
   "cell_type": "code",
   "execution_count": 22,
   "metadata": {},
   "outputs": [
    {
     "data": {
      "text/plain": [
       "-1.0233877389271744e-10"
      ]
     },
     "execution_count": 22,
     "metadata": {},
     "output_type": "execute_result"
    }
   ],
   "source": [
    "# average of residuals\n",
    "\n",
    "np.mean(residuals)"
   ]
  },
  {
   "cell_type": "code",
   "execution_count": 23,
   "metadata": {},
   "outputs": [
    {
     "data": {
      "image/png": "[encoded data removed]",
      "text/plain": [
       "<Figure size 432x288 with 1 Axes>"
      ]
     },
     "metadata": {
      "needs_background": "light"
     },
     "output_type": "display_data"
    }
   ],
   "source": [
    "# distribution of residuals\n",
    "\n",
    "plt.hist(residuals, bins=20);"
   ]
  },
  {
   "cell_type": "code",
   "execution_count": 24,
   "metadata": {},
   "outputs": [
    {
     "data": {
      "image/png": "[encoded data removed]",
      "text/plain": [
       "<Figure size 432x288 with 1 Axes>"
      ]
     },
     "metadata": {
      "needs_background": "light"
     },
     "output_type": "display_data"
    }
   ],
   "source": [
    "# residual scatter plot\n",
    "\n",
    "plt.scatter(y_preds, residuals)\n",
    "plt.axhline(0, color='red');\n",
    "\n",
    "# few overpredictions, some underpredictions"
   ]
  },
  {
   "cell_type": "code",
   "execution_count": 25,
   "metadata": {},
   "outputs": [],
   "source": [
    "# train_test_split\n",
    "\n",
    "X_train, X_test, y_train, y_test = train_test_split(X, y, random_state=42)"
   ]
  },
  {
   "cell_type": "code",
   "execution_count": 26,
   "metadata": {},
   "outputs": [
    {
     "name": "stdout",
     "output_type": "stream",
     "text": [
      "X_train sample size: 1538\n",
      "X_test sample size: 513\n",
      "y_train sample size: 1538\n",
      "y_test sample size: 513\n"
     ]
    }
   ],
   "source": [
    "# check train and test data size\n",
    "\n",
    "print('X_train sample size:', X_train.shape[0])\n",
    "print('X_test sample size:', X_test.shape[0])\n",
    "print('y_train sample size:', y_train.shape[0])\n",
    "print('y_test sample size:', y_test.shape[0])"
   ]
  },
  {
   "cell_type": "code",
   "execution_count": 30,
   "metadata": {},
   "outputs": [
    {
     "name": "stdout",
     "output_type": "stream",
     "text": [
      "Training Data\n",
      "\n",
      "Coefficients: [ 1.88493737e+04  2.80757628e+01  1.36290041e+01  4.24849865e+04\n",
      "  1.58954921e+01  9.15079746e+01  2.97983142e+02  5.74568292e+03\n",
      "  2.56874082e+01 -6.99639939e+02 -5.31297303e+03 -6.55217228e+03]\n",
      "\n",
      "Intercept: -790328.3599495242\n"
     ]
    }
   ],
   "source": [
    "# instantiate Linear Regression model\n",
    "\n",
    "lr = LinearRegression()\n",
    "lr.fit(X_train, y_train)\n",
    "\n",
    "# print model coefficients\n",
    "print('Training Data')\n",
    "print('')\n",
    "print('Coefficients:', lr.coef_)\n",
    "print('')\n",
    "print('Intercept:', lr.intercept_)"
   ]
  },
  {
   "cell_type": "markdown",
   "metadata": {},
   "source": [
    "## Evaluating the Model"
   ]
  },
  {
   "cell_type": "code",
   "execution_count": 31,
   "metadata": {},
   "outputs": [
    {
     "name": "stdout",
     "output_type": "stream",
     "text": [
      "Training Data:\n",
      "R-squared score: 0.8050017517512555\n",
      "The model explains  80.5% of the variance in sales price.\n"
     ]
    }
   ],
   "source": [
    "# r2 score - train data\n",
    "\n",
    "print('Training Data:')\n",
    "print('R-squared score:', lr.score(X_train, y_train))\n",
    "print(f'The model explains {lr.score(X_train, y_train) * 100 : .4}% of the variance in sales price.')"
   ]
  },
  {
   "cell_type": "code",
   "execution_count": 32,
   "metadata": {},
   "outputs": [
    {
     "name": "stdout",
     "output_type": "stream",
     "text": [
      "Test Data:\n",
      "R-squared score: 0.866532588945603\n",
      "The model explains  86.65% of the variance in sales price.\n"
     ]
    }
   ],
   "source": [
    "# r2 score - test data\n",
    "\n",
    "print('Test Data:')\n",
    "print('R-squared score:', lr.score(X_test, y_test))\n",
    "print(f'The model explains {lr.score(X_test, y_test) * 100 : .4}% of the variance in sales price.')"
   ]
  },
  {
   "cell_type": "code",
   "execution_count": 33,
   "metadata": {},
   "outputs": [
    {
     "name": "stdout",
     "output_type": "stream",
     "text": [
      "Cross-validation Score = 0.78\n"
     ]
    }
   ],
   "source": [
    "# 5-fold cross validation\n",
    "\n",
    "print('Cross-validation Score =', \n",
    "      cross_val_score(lr, X_train, y_train, cv=5).mean().round(2))"
   ]
  }
 ],
 "metadata": {
  "kernelspec": {
   "display_name": "Python 3",
   "language": "python",
   "name": "python3"
  },
  "language_info": {
   "codemirror_mode": {
    "name": "ipython",
    "version": 3
   },
   "file_extension": ".py",
   "mimetype": "text/x-python",
   "name": "python",
   "nbconvert_exporter": "python",
   "pygments_lexer": "ipython3",
   "version": "3.7.6"
  }
 },
 "nbformat": 4,
 "nbformat_minor": 4
}
