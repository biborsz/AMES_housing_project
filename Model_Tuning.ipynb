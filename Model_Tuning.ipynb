{
 "cells": [
  {
   "cell_type": "code",
   "execution_count": 24,
   "metadata": {},
   "outputs": [],
   "source": [
    "import pandas as pd\n",
    "import numpy as np\n",
    "import matplotlib.pyplot as plt\n",
    "import seaborn as sns\n",
    "from sklearn.linear_model import LinearRegression, LassoCV, RidgeCV\n",
    "from sklearn.metrics import r2_score\n",
    "from sklearn.model_selection import train_test_split, cross_val_score\n",
    "from sklearn.feature_selection import SelectKBest, VarianceThreshold, f_regression\n",
    "from sklearn.model_selection import GridSearchCV\n",
    "from sklearn.pipeline import make_pipeline\n",
    "from sklearn.preprocessing import StandardScaler, PolynomialFeatures"
   ]
  },
  {
   "cell_type": "code",
   "execution_count": 25,
   "metadata": {},
   "outputs": [],
   "source": [
    "# set up display\n",
    "\n",
    "pd.set_option('display.max_columns', 500)\n",
    "pd.set_option('display.max_info_rows', 500)\n",
    "pd.set_option('display.max_rows', 2500)\n",
    "# idea taken from Jeff Hale"
   ]
  },
  {
   "cell_type": "code",
   "execution_count": 26,
   "metadata": {},
   "outputs": [
    {
     "name": "stderr",
     "output_type": "stream",
     "text": [
      "/Users/bibor/opt/anaconda3/lib/python3.7/site-packages/IPython/core/interactiveshell.py:3063: DtypeWarning: Columns (17) have mixed types. Specify dtype option on import or set low_memory=False.\n",
      "  interactivity=interactivity, compiler=compiler, result=result)\n"
     ]
    }
   ],
   "source": [
    "# read in cleaned dataset\n",
    "\n",
    "housing = pd.read_csv('./datasets/modified_train.csv')"
   ]
  },
  {
   "cell_type": "code",
   "execution_count": 27,
   "metadata": {},
   "outputs": [
    {
     "data": {
      "text/plain": [
       "0    11.779129\n",
       "1    12.301383\n",
       "2    11.599103\n",
       "3    12.066811\n",
       "4    11.838626\n",
       "Name: log_price, dtype: float64"
      ]
     },
     "execution_count": 27,
     "metadata": {},
     "output_type": "execute_result"
    }
   ],
   "source": [
    "# create column for logarithm of Sale Price\n",
    "\n",
    "housing['log_price'] = np.log(housing['SalePrice'])\n",
    "housing['log_price'].head()"
   ]
  },
  {
   "cell_type": "code",
   "execution_count": 39,
   "metadata": {},
   "outputs": [],
   "source": [
    "features = housing.columns.drop(['Id', 'PID',\n",
    "                      'BsmtFin SF 1', \n",
    "                      'BsmtFin SF 2', \n",
    "                      'Bsmt Unf SF', \n",
    "                      'Total Bsmt SF',\n",
    "                      'Garage Yr Blt',\n",
    "                      '2nd Flr SF', \n",
    "                      'Low Qual Fin SF', \n",
    "                      'Gr Liv Area', \n",
    "                      'Wood Deck SF', \n",
    "                      'Open Porch SF', \n",
    "                      'Enclosed Porch',\n",
    "                      '3Ssn Porch', \n",
    "                      'Screen Porch', \n",
    "                      'Pool Area', \n",
    "                      'SalePrice',\n",
    "                      'log_price'])"
   ]
  },
  {
   "cell_type": "code",
   "execution_count": 40,
   "metadata": {},
   "outputs": [],
   "source": [
    "X = housing[features]\n",
    "y = housing['log_price']"
   ]
  },
  {
   "cell_type": "code",
   "execution_count": 41,
   "metadata": {},
   "outputs": [],
   "source": [
    "# generate polynomial features\n",
    "\n",
    "from sklearn.preprocessing import PolynomialFeatures\n",
    "\n",
    "poly = PolynomialFeatures(include_bias=False)\n",
    "X_poly = poly.fit_transform(X)"
   ]
  },
  {
   "cell_type": "code",
   "execution_count": 34,
   "metadata": {},
   "outputs": [],
   "source": [
    "# poly.get_feature_names(X.columns)"
   ]
  },
  {
   "cell_type": "code",
   "execution_count": 42,
   "metadata": {},
   "outputs": [
    {
     "data": {
      "text/plain": [
       "(2051, 59684)"
      ]
     },
     "execution_count": 42,
     "metadata": {},
     "output_type": "execute_result"
    }
   ],
   "source": [
    "X_poly.shape"
   ]
  },
  {
   "cell_type": "code",
   "execution_count": 43,
   "metadata": {},
   "outputs": [],
   "source": [
    "# train_test_split training dataset\n",
    "\n",
    "X_train, X_test, y_train, y_test = train_test_split(X_poly, y, \n",
    "                                                    test_size=0.3, \n",
    "                                                    random_state=42)"
   ]
  },
  {
   "cell_type": "code",
   "execution_count": 44,
   "metadata": {},
   "outputs": [
    {
     "data": {
      "text/plain": [
       "array([[6.800e+01, 4.500e+03, 6.000e+00, ..., 1.000e+00, 0.000e+00,\n",
       "        0.000e+00],\n",
       "       [6.800e+01, 8.174e+03, 7.000e+00, ..., 1.000e+00, 0.000e+00,\n",
       "        0.000e+00]])"
      ]
     },
     "execution_count": 44,
     "metadata": {},
     "output_type": "execute_result"
    }
   ],
   "source": [
    "# print(X_train.shape[0])\n",
    "X_train[:2]"
   ]
  },
  {
   "cell_type": "code",
   "execution_count": 45,
   "metadata": {},
   "outputs": [
    {
     "data": {
      "text/plain": [
       "array([[5.500e+01, 1.078e+04, 5.000e+00, ..., 0.000e+00, 0.000e+00,\n",
       "        0.000e+00],\n",
       "       [8.800e+01, 1.420e+04, 7.000e+00, ..., 0.000e+00, 0.000e+00,\n",
       "        0.000e+00]])"
      ]
     },
     "execution_count": 45,
     "metadata": {},
     "output_type": "execute_result"
    }
   ],
   "source": [
    "X_test[:2]"
   ]
  },
  {
   "cell_type": "code",
   "execution_count": 46,
   "metadata": {},
   "outputs": [
    {
     "data": {
      "text/plain": [
       "226     12.013701\n",
       "1742    12.089539\n",
       "Name: log_price, dtype: float64"
      ]
     },
     "execution_count": 46,
     "metadata": {},
     "output_type": "execute_result"
    }
   ],
   "source": [
    "y_train[:2]"
   ]
  },
  {
   "cell_type": "code",
   "execution_count": 47,
   "metadata": {},
   "outputs": [
    {
     "data": {
      "text/plain": [
       "1124    11.794338\n",
       "188     12.328290\n",
       "Name: log_price, dtype: float64"
      ]
     },
     "execution_count": 47,
     "metadata": {},
     "output_type": "execute_result"
    }
   ],
   "source": [
    "y_test[:2]"
   ]
  },
  {
   "cell_type": "code",
   "execution_count": 48,
   "metadata": {},
   "outputs": [],
   "source": [
    "sc = StandardScaler()\n",
    "Z_train = sc.fit_transform(X_train)\n",
    "Z_test = sc.transform(X_test)\n",
    "\n",
    "# code taken from Tim Book - Regularization lesson"
   ]
  },
  {
   "cell_type": "code",
   "execution_count": 49,
   "metadata": {},
   "outputs": [
    {
     "name": "stdout",
     "output_type": "stream",
     "text": [
      "Z_train shape is: (1435, 59684)\n",
      "y_train shape is: (1435,)\n",
      "Z_test shape is: (616, 59684)\n",
      "y_test shape is: (616,)\n"
     ]
    }
   ],
   "source": [
    "print(f'Z_train shape is: {Z_train.shape}')\n",
    "print(f'y_train shape is: {y_train.shape}')\n",
    "print(f'Z_test shape is: {Z_test.shape}')\n",
    "print(f'y_test shape is: {y_test.shape}')"
   ]
  },
  {
   "cell_type": "markdown",
   "metadata": {},
   "source": [
    "**Linear Regression Model**"
   ]
  },
  {
   "cell_type": "code",
   "execution_count": 50,
   "metadata": {},
   "outputs": [
    {
     "name": "stderr",
     "output_type": "stream",
     "text": [
      "/Users/bibor/opt/anaconda3/lib/python3.7/site-packages/sklearn/feature_selection/_univariate_selection.py:299: RuntimeWarning: invalid value encountered in true_divide\n",
      "  corr /= X_norms\n",
      "/Users/bibor/opt/anaconda3/lib/python3.7/site-packages/scipy/stats/_distn_infrastructure.py:903: RuntimeWarning: invalid value encountered in greater\n",
      "  return (a < x) & (x < b)\n",
      "/Users/bibor/opt/anaconda3/lib/python3.7/site-packages/scipy/stats/_distn_infrastructure.py:903: RuntimeWarning: invalid value encountered in less\n",
      "  return (a < x) & (x < b)\n",
      "/Users/bibor/opt/anaconda3/lib/python3.7/site-packages/scipy/stats/_distn_infrastructure.py:1912: RuntimeWarning: invalid value encountered in less_equal\n",
      "  cond2 = cond0 & (x <= _a)\n"
     ]
    }
   ],
   "source": [
    "# select KBest features\n",
    "# SQRT(n) = 45\n",
    "\n",
    "skb = SelectKBest(f_regression, k=45)\n",
    "Z_train_best = skb.fit_transform(Z_train, y_train)\n",
    "Z_test_best = skb.transform(Z_test)"
   ]
  },
  {
   "cell_type": "code",
   "execution_count": 51,
   "metadata": {},
   "outputs": [
    {
     "name": "stdout",
     "output_type": "stream",
     "text": [
      "Overall Qual\n",
      "Garage Area\n",
      "Total SF\n",
      "Overall Qual^2\n",
      "Overall Qual Year Built\n",
      "Overall Qual Year Remod/Add\n",
      "Overall Qual 1st Flr SF\n",
      "Overall Qual Garage Area\n",
      "Overall Qual Street_Pave\n",
      "Overall Qual Condition 2_Norm\n",
      "Overall Qual Roof Matl_CompShg\n",
      "Overall Qual Foundation_PConc\n",
      "Overall Qual Central Air_Y\n",
      "Overall Qual Electrical_SBrkr\n",
      "Overall Qual Kitchen AbvGr_1\n",
      "Overall Qual Garage Qual_TA\n",
      "Overall Qual Garage Cond_TA\n",
      "Overall Qual Paved Drive_Y\n",
      "Overall Qual Pool QC_No\n",
      "Overall Qual Misc Feature_No\n",
      "Overall Qual Total SF\n",
      "Year Built Year Remod/Add\n",
      "Year Built Garage Area\n",
      "Year Built Total SF\n",
      "Year Remod/Add Garage Area\n",
      "Year Remod/Add Total SF\n",
      "Garage Area Street_Pave\n",
      "Garage Area Foundation_PConc\n",
      "Garage Area Central Air_Y\n",
      "Garage Area Electrical_SBrkr\n",
      "Garage Area Garage Cond_TA\n",
      "Garage Area Paved Drive_Y\n",
      "Garage Area Total SF\n",
      "Street_Pave Total SF\n",
      "Condition 2_Norm Total SF\n",
      "Roof Matl_CompShg Total SF\n",
      "Foundation_PConc Total SF\n",
      "Central Air_Y Total SF\n",
      "Electrical_SBrkr Total SF\n",
      "Kitchen AbvGr_1 Total SF\n",
      "Garage Qual_TA Total SF\n",
      "Garage Cond_TA Total SF\n",
      "Paved Drive_Y Total SF\n",
      "Pool QC_No Total SF\n",
      "Misc Feature_No Total SF\n"
     ]
    }
   ],
   "source": [
    "# 45 Best Features\n",
    "\n",
    "for feature_name, included in zip(poly.get_feature_names(X.columns),\n",
    "    skb.get_support()):\n",
    "        if included:\n",
    "            print(feature_name)\n",
    "\n",
    "# code taken from Janos Sallai"
   ]
  },
  {
   "cell_type": "code",
   "execution_count": 52,
   "metadata": {},
   "outputs": [
    {
     "data": {
      "text/plain": [
       "LinearRegression(copy_X=True, fit_intercept=True, n_jobs=None, normalize=False)"
      ]
     },
     "execution_count": 52,
     "metadata": {},
     "output_type": "execute_result"
    }
   ],
   "source": [
    "# OLS regression model\n",
    "\n",
    "ols = LinearRegression()\n",
    "ols.fit(Z_train_best, y_train)"
   ]
  },
  {
   "cell_type": "code",
   "execution_count": 53,
   "metadata": {},
   "outputs": [
    {
     "name": "stdout",
     "output_type": "stream",
     "text": [
      "Train R-Squared: 0.871566742244593\n",
      "Test R-Squared: 0.8495290606891338\n"
     ]
    }
   ],
   "source": [
    "print('Train R-Squared:', ols.score(Z_train_best, y_train))\n",
    "print('Test R-Squared:', ols.score(Z_test_best, y_test))"
   ]
  },
  {
   "cell_type": "code",
   "execution_count": 54,
   "metadata": {},
   "outputs": [
    {
     "name": "stdout",
     "output_type": "stream",
     "text": [
      "Cross-validation score: [0.8435982  0.68923533 0.83040294 0.79055078 0.77058947]\n"
     ]
    }
   ],
   "source": [
    "print('Cross-validation score:', cross_val_score(ols, Z_train_best, y_train, cv=5))"
   ]
  },
  {
   "cell_type": "code",
   "execution_count": 55,
   "metadata": {},
   "outputs": [
    {
     "name": "stdout",
     "output_type": "stream",
     "text": [
      "Cross-validation score: 0.784875343188193\n"
     ]
    }
   ],
   "source": [
    "print('Cross-validation score:', cross_val_score(ols, Z_train_best, y_train, cv=5).mean())"
   ]
  },
  {
   "cell_type": "markdown",
   "metadata": {},
   "source": [
    "**Ridge Regression Model**"
   ]
  },
  {
   "cell_type": "code",
   "execution_count": 56,
   "metadata": {},
   "outputs": [],
   "source": [
    "ridge_alphas = np.logspace(0, 4, 50)"
   ]
  },
  {
   "cell_type": "code",
   "execution_count": 57,
   "metadata": {},
   "outputs": [
    {
     "data": {
      "text/plain": [
       "RidgeCV(alphas=array([1.00000000e+00, 1.20679264e+00, 1.45634848e+00, 1.75751062e+00,\n",
       "       2.12095089e+00, 2.55954792e+00, 3.08884360e+00, 3.72759372e+00,\n",
       "       4.49843267e+00, 5.42867544e+00, 6.55128557e+00, 7.90604321e+00,\n",
       "       9.54095476e+00, 1.15139540e+01, 1.38949549e+01, 1.67683294e+01,\n",
       "       2.02358965e+01, 2.44205309e+01, 2.94705170e+01, 3.55648031e+01,\n",
       "       4.29193426e+01, 5.17947468e+0...\n",
       "       4.09491506e+02, 4.94171336e+02, 5.96362332e+02, 7.19685673e+02,\n",
       "       8.68511374e+02, 1.04811313e+03, 1.26485522e+03, 1.52641797e+03,\n",
       "       1.84206997e+03, 2.22299648e+03, 2.68269580e+03, 3.23745754e+03,\n",
       "       3.90693994e+03, 4.71486636e+03, 5.68986603e+03, 6.86648845e+03,\n",
       "       8.28642773e+03, 1.00000000e+04]),\n",
       "        cv=5, fit_intercept=True, gcv_mode=None, normalize=False, scoring='r2',\n",
       "        store_cv_values=False)"
      ]
     },
     "execution_count": 57,
     "metadata": {},
     "output_type": "execute_result"
    }
   ],
   "source": [
    "# instantiate the Ridge model\n",
    "\n",
    "ridge_cv = RidgeCV(alphas=ridge_alphas,\n",
    "                   scoring='r2',\n",
    "                   cv=5)\n",
    "ridge_cv.fit(Z_train, y_train)"
   ]
  },
  {
   "cell_type": "code",
   "execution_count": 58,
   "metadata": {},
   "outputs": [
    {
     "data": {
      "text/plain": [
       "5689.866029018293"
      ]
     },
     "execution_count": 58,
     "metadata": {},
     "output_type": "execute_result"
    }
   ],
   "source": [
    "ridge_cv.alpha_"
   ]
  },
  {
   "cell_type": "code",
   "execution_count": 59,
   "metadata": {},
   "outputs": [
    {
     "name": "stdout",
     "output_type": "stream",
     "text": [
      "Train R-Squared: 0.9881669053153816\n",
      "Test R-Squared: 0.7979206075003799\n"
     ]
    }
   ],
   "source": [
    "print('Train R-Squared:', ridge_cv.score(Z_train, y_train))\n",
    "print('Test R-Squared:', ridge_cv.score(Z_test, y_test))"
   ]
  },
  {
   "cell_type": "markdown",
   "metadata": {},
   "source": [
    "**LASSO Regression Model**"
   ]
  },
  {
   "cell_type": "code",
   "execution_count": 69,
   "metadata": {},
   "outputs": [
    {
     "data": {
      "text/plain": [
       "array([1.00000000e-04, 1.20679264e-04, 1.45634848e-04, 1.75751062e-04,\n",
       "       2.12095089e-04, 2.55954792e-04, 3.08884360e-04, 3.72759372e-04,\n",
       "       4.49843267e-04, 5.42867544e-04, 6.55128557e-04, 7.90604321e-04,\n",
       "       9.54095476e-04, 1.15139540e-03, 1.38949549e-03, 1.67683294e-03,\n",
       "       2.02358965e-03, 2.44205309e-03, 2.94705170e-03, 3.55648031e-03,\n",
       "       4.29193426e-03, 5.17947468e-03, 6.25055193e-03, 7.54312006e-03,\n",
       "       9.10298178e-03, 1.09854114e-02, 1.32571137e-02, 1.59985872e-02,\n",
       "       1.93069773e-02, 2.32995181e-02, 2.81176870e-02, 3.39322177e-02,\n",
       "       4.09491506e-02, 4.94171336e-02, 5.96362332e-02, 7.19685673e-02,\n",
       "       8.68511374e-02, 1.04811313e-01, 1.26485522e-01, 1.52641797e-01,\n",
       "       1.84206997e-01, 2.22299648e-01, 2.68269580e-01, 3.23745754e-01,\n",
       "       3.90693994e-01, 4.71486636e-01, 5.68986603e-01, 6.86648845e-01,\n",
       "       8.28642773e-01, 1.00000000e+00])"
      ]
     },
     "execution_count": 69,
     "metadata": {},
     "output_type": "execute_result"
    }
   ],
   "source": [
    "lasso_alphas = np.logspace(-4, 0, 50)\n",
    "lasso_alphas"
   ]
  },
  {
   "cell_type": "code",
   "execution_count": 70,
   "metadata": {},
   "outputs": [],
   "source": [
    "# create Lasso CV model\n",
    "\n",
    "lasso_cv = LassoCV(alphas=lasso_alphas,\n",
    "                   cv=5)"
   ]
  },
  {
   "cell_type": "code",
   "execution_count": 71,
   "metadata": {},
   "outputs": [
    {
     "data": {
      "text/plain": [
       "LassoCV(alphas=array([1.00000000e-04, 1.20679264e-04, 1.45634848e-04, 1.75751062e-04,\n",
       "       2.12095089e-04, 2.55954792e-04, 3.08884360e-04, 3.72759372e-04,\n",
       "       4.49843267e-04, 5.42867544e-04, 6.55128557e-04, 7.90604321e-04,\n",
       "       9.54095476e-04, 1.15139540e-03, 1.38949549e-03, 1.67683294e-03,\n",
       "       2.02358965e-03, 2.44205309e-03, 2.94705170e-03, 3.55648031e-03,\n",
       "       4.29193426e-03, 5.17947468e-0...\n",
       "       8.68511374e-02, 1.04811313e-01, 1.26485522e-01, 1.52641797e-01,\n",
       "       1.84206997e-01, 2.22299648e-01, 2.68269580e-01, 3.23745754e-01,\n",
       "       3.90693994e-01, 4.71486636e-01, 5.68986603e-01, 6.86648845e-01,\n",
       "       8.28642773e-01, 1.00000000e+00]),\n",
       "        copy_X=True, cv=5, eps=0.001, fit_intercept=True, max_iter=1000,\n",
       "        n_alphas=100, n_jobs=None, normalize=False, positive=False,\n",
       "        precompute='auto', random_state=None, selection='cyclic', tol=0.0001,\n",
       "        verbose=False)"
      ]
     },
     "execution_count": 71,
     "metadata": {},
     "output_type": "execute_result"
    }
   ],
   "source": [
    "# fit the Z_train data to the model\n",
    "\n",
    "lasso_cv.fit(Z_train, y_train)"
   ]
  },
  {
   "cell_type": "code",
   "execution_count": 72,
   "metadata": {},
   "outputs": [
    {
     "data": {
      "text/plain": [
       "0.0035564803062231283"
      ]
     },
     "execution_count": 72,
     "metadata": {},
     "output_type": "execute_result"
    }
   ],
   "source": [
    "lasso_cv.alpha_"
   ]
  },
  {
   "cell_type": "code",
   "execution_count": 45,
   "metadata": {},
   "outputs": [
    {
     "data": {
      "text/plain": [
       "{'alphas': array([0.01      , 0.01098541, 0.01206793, 0.01325711, 0.01456348,\n",
       "        0.01599859, 0.01757511, 0.01930698, 0.02120951, 0.02329952,\n",
       "        0.02559548, 0.02811769, 0.03088844, 0.03393222, 0.03727594,\n",
       "        0.04094915, 0.04498433, 0.04941713, 0.05428675, 0.05963623,\n",
       "        0.06551286, 0.07196857, 0.07906043, 0.08685114, 0.09540955,\n",
       "        0.10481131, 0.11513954, 0.12648552, 0.13894955, 0.1526418 ,\n",
       "        0.16768329, 0.184207  , 0.20235896, 0.22229965, 0.24420531,\n",
       "        0.26826958, 0.29470517, 0.32374575, 0.35564803, 0.39069399,\n",
       "        0.42919343, 0.47148664, 0.51794747, 0.5689866 , 0.62505519,\n",
       "        0.68664885, 0.75431201, 0.82864277, 0.91029818, 1.        ]),\n",
       " 'copy_X': True,\n",
       " 'cv': 5,\n",
       " 'eps': 0.001,\n",
       " 'fit_intercept': True,\n",
       " 'max_iter': 1000,\n",
       " 'n_alphas': 100,\n",
       " 'n_jobs': None,\n",
       " 'normalize': False,\n",
       " 'positive': False,\n",
       " 'precompute': 'auto',\n",
       " 'random_state': None,\n",
       " 'selection': 'cyclic',\n",
       " 'tol': 0.0001,\n",
       " 'verbose': False}"
      ]
     },
     "execution_count": 45,
     "metadata": {},
     "output_type": "execute_result"
    }
   ],
   "source": [
    "lasso_cv.get_params()"
   ]
  },
  {
   "cell_type": "code",
   "execution_count": 73,
   "metadata": {},
   "outputs": [
    {
     "name": "stdout",
     "output_type": "stream",
     "text": [
      "Train R-Squared: 0.9743046726720975\n",
      "Test R-Squared: 0.8755422174454062\n"
     ]
    }
   ],
   "source": [
    "print('Train R-Squared:', lasso_cv.score(Z_train, y_train))\n",
    "print('Test R-Squared:', lasso_cv.score(Z_test, y_test))"
   ]
  },
  {
   "cell_type": "code",
   "execution_count": 75,
   "metadata": {},
   "outputs": [
    {
     "name": "stdout",
     "output_type": "stream",
     "text": [
      "OLS Train R-Squared: 0.871566742244593\n",
      "OLS Test R-Squared: 0.8495290606891338\n",
      "OLS Cross-validation score: 0.784875343188193\n",
      "\n",
      "Ridge Train R-Squared: 0.9881669053153816\n",
      "Ridge Test R-Squared: 0.7979206075003799\n",
      "\n",
      "Lasso Train R-Squared: 0.9743046726720975\n",
      "Lasso Test R-Squared: 0.8755422174454062\n"
     ]
    }
   ],
   "source": [
    "print('OLS Train R-Squared:', ols.score(Z_train_best, y_train))\n",
    "print('OLS Test R-Squared:', ols.score(Z_test_best, y_test))\n",
    "print('OLS Cross-validation score:', cross_val_score(ols, Z_train_best, y_train, cv=5).mean())\n",
    "print('')\n",
    "print('Ridge Train R-Squared:', ridge_cv.score(Z_train, y_train))\n",
    "print('Ridge Test R-Squared:', ridge_cv.score(Z_test, y_test))\n",
    "print('')\n",
    "print('Lasso Train R-Squared:', lasso_cv.score(Z_train, y_train))\n",
    "print('Lasso Test R-Squared:', lasso_cv.score(Z_test, y_test))"
   ]
  },
  {
   "cell_type": "markdown",
   "metadata": {},
   "source": [
    "\n",
    "\n"
   ]
  }
 ],
 "metadata": {
  "kernelspec": {
   "display_name": "Python 3",
   "language": "python",
   "name": "python3"
  },
  "language_info": {
   "codemirror_mode": {
    "name": "ipython",
    "version": 3
   },
   "file_extension": ".py",
   "mimetype": "text/x-python",
   "name": "python",
   "nbconvert_exporter": "python",
   "pygments_lexer": "ipython3",
   "version": "3.7.6"
  }
 },
 "nbformat": 4,
 "nbformat_minor": 4
}
